{
 "cells": [
  {
   "cell_type": "markdown",
   "id": "c326e3a4",
   "metadata": {},
   "source": [
    "# Φόρτωση βιβλιοθηκών"
   ]
  },
  {
   "cell_type": "markdown",
   "id": "852d0217",
   "metadata": {},
   "source": [
    "Εξωτερικές βιβλιοθήκες:\n",
    " - numpy=1.21.5=py39h7a0a035_1\n",
    " - pandas=1.4.2=py39hd77b12b_0\n",
    " - liac-arff=2.5.0=pyhd3eb1b0_1"
   ]
  },
  {
   "cell_type": "code",
   "execution_count": null,
   "id": "a80759d5",
   "metadata": {},
   "outputs": [],
   "source": [
    "import os\n",
    "import glob\n",
    "import pandas as pd\n",
    "import numpy as np\n",
    "from collections import defaultdict"
   ]
  },
  {
   "cell_type": "markdown",
   "id": "763fce5b",
   "metadata": {},
   "source": [
    "# Φόρτωση δεδομένων"
   ]
  },
  {
   "cell_type": "markdown",
   "id": "4bc33075",
   "metadata": {},
   "source": [
    "Από το αρχείο ***deni_(1).txt*** φορτώνουμε τυχαία ***x*** γραμμές το οποίο ορίζεται από την συνάρτηση randint με εύρος από 50 έως 150, καθαρά για τις ανάγκες των δοκιμών.Φυσικά παρακάμτουμε τις πρώτες ***7*** γραμμές καθώς δεν απαιτούνται για τους μετέπειτα υπολογισμούς."
   ]
  },
  {
   "cell_type": "code",
   "execution_count": null,
   "id": "d20c6dad",
   "metadata": {},
   "outputs": [],
   "source": [
    "from random import randint\n",
    "dataset = pd.read_csv('deni_(1).txt',skiprows=7,nrows=100,header=None)"
   ]
  },
  {
   "cell_type": "code",
   "execution_count": null,
   "id": "cf040d9a",
   "metadata": {},
   "outputs": [],
   "source": [
    "dataset"
   ]
  },
  {
   "cell_type": "markdown",
   "id": "cf3a57a3",
   "metadata": {},
   "source": [
    "# Διαχωρισμός δεδομένων"
   ]
  },
  {
   "cell_type": "markdown",
   "id": "d15493ae",
   "metadata": {},
   "source": [
    "Ο διαχωρισμός των δεδομένων στην περίπτωση των δοκιμών είναι περιττός καθώς έχουμε να επεξεργαστούμε πολύ λίγα δεδομένα. Οπότε θέτουμε την παράμετρο ***k*** της συνάρτησης ***data_seperation*** με ***0***. (Στην πραγματικότητα είναι σαν να μην εκτελείται η συνάρτηση) Σε συνθήκες όπου η συνάρτηση ***data seperation*** εκτελείται κανονικά. Σκοπός της είναι να διαλέξει εκείνα τα δεδομένα όπου το συνολικό πάτημα των πλήκτρων είναι μεγαλύτερο από ***k***. (Μπορούν να γίνουν δοκιμές όπου το k έχει πολύ μικρή τιμή π.χ ***k=2***)"
   ]
  },
  {
   "cell_type": "code",
   "execution_count": null,
   "id": "102b4bed",
   "metadata": {},
   "outputs": [],
   "source": [
    "def data_seperation(k):\n",
    "    data = dataset.values\n",
    "    counter = defaultdict(int)\n",
    "    for x in range(len(data)):\n",
    "        button_dn =np.empty((3,0))\n",
    "        if data[x][3] == 'dn':\n",
    "            button_dn = data[x]\n",
    "            for y in range(x+1,len(data)):\n",
    "                if (button_dn[0] == data[y][0]) and (button_dn[1] == data[y][1]) and (data[y][3] =='dn'):\n",
    "                    break\n",
    "                elif (button_dn[0] == data[y][0]) and (button_dn[1] == data[y][1]) and (data[y][3] =='up'):\n",
    "                    counter[data[x][0]]+=1\n",
    "                    break\n",
    "    return [key for key,value in counter.items() if value > k]"
   ]
  },
  {
   "cell_type": "markdown",
   "id": "e8305db3",
   "metadata": {},
   "source": [
    "Aκολουθεί ***ταξινόμηση*** και η επιλογή των δεδομένων από ***ολόκληρο*** του dataset καθώς και η μετατροπή τους σε πίνακα της μορφή numpy"
   ]
  },
  {
   "cell_type": "code",
   "execution_count": null,
   "id": "2eb90b4f",
   "metadata": {
    "scrolled": true
   },
   "outputs": [],
   "source": [
    "seperated_data = data_seperation(0)\n",
    "seperated_data.sort()\n",
    "selected_data = dataset.loc[dataset[0].isin(seperated_data)]\n",
    "np_selected_data = selected_data.values"
   ]
  },
  {
   "cell_type": "markdown",
   "id": "3305e9f7",
   "metadata": {},
   "source": [
    "# Εύρεση ζευγαριών"
   ]
  },
  {
   "cell_type": "markdown",
   "id": "eba51672",
   "metadata": {},
   "source": [
    "*Για να θεώρησουμε ότι ένα πλήκτρo έχει πατηθεί θα πρέπει η αρχική του κατάσταση είναι ***dn*** και στην συνέχεια να ακολουθεί κατάσταση ***up***.* Σε περίπτωση που μετά από κατάσταση ***dn*** ακολουθεί πάλι κατάσταση ***dn*** για το ίδιο πλήκτρο, τότε το πλήκτρο ***απορρίπτεται*** και πάμε στο ***επόμενο***. Η συνάρτηση ***find_pairs*** ουσιαστικά ομαδοποεί τις καταστάσεις των πλήκτρων, δηλάδη βρίσκει το ζευγάρι της κατάστασης ***dn*** και ***up*** του εκάστοτε πλήκτρου. Ακολουθεί παράδειγμα.\n",
    "\n",
    "\n",
    "Ο παρακάτω κώδικας παρουσιάζει το τι επιστρέφει η συνάρτηση ***find_pairs*** μετά την εκτέλεση της. Ένα πίνακα ο οποίος περιέχει τα ζευγάρια των καταστάσεων. Για να θεωρηθεί ότι μια κατάσταση είναι ζευγάρι με μια άλλη θα πρέπει να έχουν κοινή ημερομηνία καθώς και κοινό αριθμό πλήκτρου. \n",
    "\n",
    "```python\n",
    "[\n",
    "    (\n",
    "     array([73, '#2022-03-29#', 65878658, 'dn'], dtype=object), \n",
    "     array([73, '#2022-03-29#', 65878736,'up'],dtype=object)\n",
    "    ),\n",
    "    \n",
    "    (\n",
    "        array([83, '#2022-03-29#', 65879010, 'dn'], dtype=object),\n",
    "        array([83, '#2022-03-29#', 65879088, 'up'],dtype=object)\n",
    "    )\n",
    "]\n",
    "```"
   ]
  },
  {
   "cell_type": "code",
   "execution_count": null,
   "id": "5d71f926",
   "metadata": {},
   "outputs": [],
   "source": [
    "def find_pairs():\n",
    "    pairs=[]  \n",
    "    for x in range(len(np_selected_data)):\n",
    "        button_dn =np.empty((3,0))\n",
    "        button_up=np.empty((3,0))\n",
    "        if np_selected_data[x][3] == 'dn':\n",
    "            button_dn = np_selected_data[x]\n",
    "            for y in range(x+1,len(np_selected_data)):\n",
    "                if (button_dn[0] == np_selected_data[y][0]) and (button_dn[1] == np_selected_data[y][1]) and (np_selected_data[y][3] =='dn'):\n",
    "                    break\n",
    "                elif (button_dn[0] == np_selected_data[y][0]) and (button_dn[1] == np_selected_data[y][1]) and (np_selected_data[y][3] =='up'):\n",
    "                    button_up= np_selected_data[y]\n",
    "                    break\n",
    "        if button_dn.size !=0 and button_up.size!=0: \n",
    "            pairs.append((button_dn,button_up))\n",
    "    return pairs    \n",
    "                "
   ]
  },
  {
   "cell_type": "code",
   "execution_count": null,
   "id": "755a7132",
   "metadata": {},
   "outputs": [],
   "source": [
    "pairs = find_pairs()\n",
    "pairs"
   ]
  },
  {
   "cell_type": "markdown",
   "id": "f2482260",
   "metadata": {},
   "source": [
    "# Υπολογισμός χρόνου"
   ]
  },
  {
   "cell_type": "markdown",
   "id": "975dfec2",
   "metadata": {},
   "source": [
    "Το παρακάτω κελί κώδικα περιέχει την διαδικασία υπολογισμού του χρόνου των πλήκτρων από κατάσταση ***dn*** σε ***up***. Για να αποφθεχθεί το αρνητικό πρόσημο, *αφαιρούμε* από τον χρόνο ***up*** τον χρόνο ***dn***"
   ]
  },
  {
   "cell_type": "code",
   "execution_count": null,
   "id": "5c28a21f",
   "metadata": {},
   "outputs": [],
   "source": [
    "for pair in pairs:\n",
    "    print(f'{pair[1][0]}[{pair[1][3]}] / {pair[0][0]} [{pair[0][3]}] : ({pair[1][3]} time) {pair[1][2]} - ({pair[0][3]} time) {pair[0][2]} = {pair[1][2] - pair[0][2]}')"
   ]
  },
  {
   "cell_type": "markdown",
   "id": "9c0a6538",
   "metadata": {},
   "source": [
    "Η συνάρτηση calculate_duration υπολογίζει ακριβώς ότι αναφέρθηκε πάνω και στην συνέχεια επιστρέφει τους χρόνους για κάθε πλήκτρο σε ένα dictionary"
   ]
  },
  {
   "cell_type": "code",
   "execution_count": null,
   "id": "dbf2a840",
   "metadata": {},
   "outputs": [],
   "source": [
    "def calculate_duration():\n",
    "    results = defaultdict(list)\n",
    "    for pair in pairs:\n",
    "        up_btn_duration = int(pair[1][2])\n",
    "        dn_btn_duration = int(pair[0][2])\n",
    "        results[str(pair[0][0])].append(np.subtract(up_btn_duration,dn_btn_duration))\n",
    "    return results"
   ]
  },
  {
   "cell_type": "code",
   "execution_count": null,
   "id": "44f8196f",
   "metadata": {},
   "outputs": [],
   "source": [
    "duration = calculate_duration()\n",
    "duration"
   ]
  },
  {
   "cell_type": "markdown",
   "id": "afa078b3",
   "metadata": {},
   "source": [
    "# Υπολογισμός Μ.Ο"
   ]
  },
  {
   "cell_type": "markdown",
   "id": "c7e43bff",
   "metadata": {},
   "source": [
    "Ο υπολογσιμός του Μ.Ο γίνετε κάνοντας χρήση της βοηθητικής συνάρτησης ***np.average*** . Ο τελικός αριθμός θα πρέπει να αποτελείται από **2** δεκαδικά ψηφία. Η αποθήκευση των μέσων όρων γίνετε σε ένα dictionary, όπου τα κλειδιά του είναι ο αριθμός του πλήκτρου ενώ η τιμή τους ο Μ.Ο ."
   ]
  },
  {
   "cell_type": "code",
   "execution_count": null,
   "id": "ecb632fa",
   "metadata": {},
   "outputs": [],
   "source": [
    "def calculate_average():   \n",
    "    average = {i:'?' for i in seperated_data}\n",
    "    for key,values in duration.items():\n",
    "        average.update({int(key):round(np.average(values),2)})\n",
    "    return average"
   ]
  },
  {
   "cell_type": "code",
   "execution_count": null,
   "id": "3ccbc030",
   "metadata": {},
   "outputs": [],
   "source": [
    "average = calculate_average()"
   ]
  },
  {
   "cell_type": "code",
   "execution_count": null,
   "id": "fbe9c59e",
   "metadata": {},
   "outputs": [],
   "source": [
    "average"
   ]
  },
  {
   "cell_type": "markdown",
   "id": "014591c5",
   "metadata": {},
   "source": [
    "# Unit - testing"
   ]
  },
  {
   "cell_type": "markdown",
   "id": "5cbf7cc3",
   "metadata": {},
   "source": [
    "Το παρακάτω unit test ελέγχει την διάρκεια καθώς και τον μέσο όρο.Οι προβλέψεις εισάγονται από τον χρήση από ένα αρχείο .csv ."
   ]
  },
  {
   "cell_type": "code",
   "execution_count": null,
   "id": "839100f9",
   "metadata": {},
   "outputs": [],
   "source": [
    "import unittest\n",
    "from collections import OrderedDict\n",
    "\n",
    "class TestCases(unittest.TestCase):\n",
    "    \n",
    "    def setUp(self):\n",
    "        results = pd.read_csv(\"results.csv\", header=None, sep=',')\n",
    "        self.resulst_values = results.values\n",
    "        \n",
    "    def test_duration(self):\n",
    "        pre_duration = res={str(value[0]):list(np.array(value[1].strip('][').split(' '),dtype=int))for value in self.resulst_values[:,[0,1]]}\n",
    "        self.assertEqual(duration,pre_duration)\n",
    "        \n",
    "    def test_average(self):\n",
    "        pre_average = dict(OrderedDict(sorted(dict(self.resulst_values[:,[0,2]]).items())))\n",
    "        self.assertEqual(average,pre_average)\n",
    "\n",
    "\n",
    "unittest.main(argv=[''], exit=False)"
   ]
  },
  {
   "cell_type": "code",
   "execution_count": null,
   "id": "41da962f",
   "metadata": {},
   "outputs": [],
   "source": []
  },
  {
   "cell_type": "code",
   "execution_count": null,
   "id": "a9e7a275",
   "metadata": {},
   "outputs": [],
   "source": []
  }
 ],
 "metadata": {
  "kernelspec": {
   "display_name": "Python 3 (ipykernel)",
   "language": "python",
   "name": "python3"
  },
  "language_info": {
   "codemirror_mode": {
    "name": "ipython",
    "version": 3
   },
   "file_extension": ".py",
   "mimetype": "text/x-python",
   "name": "python",
   "nbconvert_exporter": "python",
   "pygments_lexer": "ipython3",
   "version": "3.9.12"
  },
  "vscode": {
   "interpreter": {
    "hash": "b0fa6594d8f4cbf19f97940f81e996739fb7646882a419484c72d19e05852a7e"
   }
  }
 },
 "nbformat": 4,
 "nbformat_minor": 5
}
